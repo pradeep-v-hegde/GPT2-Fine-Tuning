{
 "cells": [
  {
   "cell_type": "code",
   "execution_count": 1,
   "metadata": {
    "_cell_guid": "b1076dfc-b9ad-4769-8c92-a6c4dae69d19",
    "_uuid": "8f2839f25d086af736a60e9eeb907d3b93b6e0e5",
    "execution": {
     "iopub.execute_input": "2020-08-10T12:16:23.982413Z",
     "iopub.status.busy": "2020-08-10T12:16:23.981369Z",
     "iopub.status.idle": "2020-08-10T12:16:23.986545Z",
     "shell.execute_reply": "2020-08-10T12:16:23.985854Z"
    },
    "papermill": {
     "duration": 0.026604,
     "end_time": "2020-08-10T12:16:23.986724",
     "exception": false,
     "start_time": "2020-08-10T12:16:23.960120",
     "status": "completed"
    },
    "tags": []
   },
   "outputs": [
    {
     "name": "stdout",
     "output_type": "stream",
     "text": [
      "/kaggle/working/__notebook__.ipynb\n"
     ]
    }
   ],
   "source": [
    "# This Python 3 environment comes with many helpful analytics libraries installed\n",
    "# It is defined by the kaggle/python Docker image: https://github.com/kaggle/docker-python\n",
    "# For example, here's several helpful packages to load\n",
    "\n",
    "import numpy as np # linear algebra\n",
    "import pandas as pd # data processing, CSV file I/O (e.g. pd.read_csv)\n",
    "\n",
    "# Input data files are available in the read-only \"../input/\" directory\n",
    "# For example, running this (by clicking run or pressing Shift+Enter) will list all files under the input directory\n",
    "\n",
    "import os\n",
    "for dirname, _, filenames in os.walk('/kaggle/working'):\n",
    "    for filename in filenames:\n",
    "        print(os.path.join(dirname, filename))\n",
    "\n",
    "# You can write up to 5GB to the current directory (/kaggle/working/) that gets preserved as output when you create a version using \"Save & Run All\" \n",
    "# You can also write temporary files to /kaggle/temp/, but they won't be saved outside of the current session"
   ]
  },
  {
   "cell_type": "code",
   "execution_count": 2,
   "metadata": {
    "_cell_guid": "79c7e3d0-c299-4dcb-8224-4455121ee9b0",
    "_uuid": "d629ff2d2480ee46fbb7e2d37f6b5fab8052498a",
    "execution": {
     "iopub.execute_input": "2020-08-10T12:16:24.023228Z",
     "iopub.status.busy": "2020-08-10T12:16:24.022352Z",
     "iopub.status.idle": "2020-08-10T12:16:33.952138Z",
     "shell.execute_reply": "2020-08-10T12:16:33.951022Z"
    },
    "papermill": {
     "duration": 9.950102,
     "end_time": "2020-08-10T12:16:33.952294",
     "exception": false,
     "start_time": "2020-08-10T12:16:24.002192",
     "status": "completed"
    },
    "tags": []
   },
   "outputs": [
    {
     "name": "stderr",
     "output_type": "stream",
     "text": [
      "\u001b[34m\u001b[1mwandb\u001b[0m: \u001b[33mWARNING\u001b[0m W&B installed but not logged in.  Run `wandb login` or set the WANDB_API_KEY env variable.\n"
     ]
    }
   ],
   "source": [
    "from torchtext.datasets import WikiText2\n",
    "from torchtext.data import Field, LabelField, Dataset, Pipeline, BPTTIterator, BucketIterator, TabularDataset, Example\n",
    "from transformers import GPT2Tokenizer\n",
    "from transformers import Trainer\n",
    "import torch\n",
    "from transformers import GPT2LMHeadModel\n",
    "import torch.optim as optim\n",
    "from spacy.lang.en import English"
   ]
  },
  {
   "cell_type": "code",
   "execution_count": 3,
   "metadata": {
    "execution": {
     "iopub.execute_input": "2020-08-10T12:16:34.350237Z",
     "iopub.status.busy": "2020-08-10T12:16:34.349266Z",
     "iopub.status.idle": "2020-08-10T12:16:34.353404Z",
     "shell.execute_reply": "2020-08-10T12:16:34.352345Z"
    },
    "papermill": {
     "duration": 0.385795,
     "end_time": "2020-08-10T12:16:34.353525",
     "exception": false,
     "start_time": "2020-08-10T12:16:33.967730",
     "status": "completed"
    },
    "tags": []
   },
   "outputs": [],
   "source": [
    "device = torch.device('cuda' if torch.cuda.is_available() else 'cpu')"
   ]
  },
  {
   "cell_type": "code",
   "execution_count": 4,
   "metadata": {
    "execution": {
     "iopub.execute_input": "2020-08-10T12:16:34.388179Z",
     "iopub.status.busy": "2020-08-10T12:16:34.387470Z",
     "iopub.status.idle": "2020-08-10T12:17:04.151167Z",
     "shell.execute_reply": "2020-08-10T12:17:04.150320Z"
    },
    "papermill": {
     "duration": 29.782771,
     "end_time": "2020-08-10T12:17:04.151319",
     "exception": false,
     "start_time": "2020-08-10T12:16:34.368548",
     "status": "completed"
    },
    "tags": []
   },
   "outputs": [
    {
     "data": {
      "application/vnd.jupyter.widget-view+json": {
       "model_id": "4358f797787b4788bd82bf2858dc8b1d",
       "version_major": 2,
       "version_minor": 0
      },
      "text/plain": [
       "HBox(children=(FloatProgress(value=0.0, description='Downloading', max=1042301.0, style=ProgressStyle(descript…"
      ]
     },
     "metadata": {},
     "output_type": "display_data"
    },
    {
     "name": "stdout",
     "output_type": "stream",
     "text": [
      "\n"
     ]
    },
    {
     "data": {
      "application/vnd.jupyter.widget-view+json": {
       "model_id": "c59013b6ac184505a465265424053053",
       "version_major": 2,
       "version_minor": 0
      },
      "text/plain": [
       "HBox(children=(FloatProgress(value=0.0, description='Downloading', max=456318.0, style=ProgressStyle(descripti…"
      ]
     },
     "metadata": {},
     "output_type": "display_data"
    },
    {
     "name": "stdout",
     "output_type": "stream",
     "text": [
      "\n"
     ]
    },
    {
     "data": {
      "application/vnd.jupyter.widget-view+json": {
       "model_id": "0eab36265a3943b88a0e77fd5888cf90",
       "version_major": 2,
       "version_minor": 0
      },
      "text/plain": [
       "HBox(children=(FloatProgress(value=0.0, description='Downloading', max=665.0, style=ProgressStyle(description_…"
      ]
     },
     "metadata": {},
     "output_type": "display_data"
    },
    {
     "name": "stdout",
     "output_type": "stream",
     "text": [
      "\n"
     ]
    },
    {
     "data": {
      "application/vnd.jupyter.widget-view+json": {
       "model_id": "69444399516644b0a744c7dc74b5a5d3",
       "version_major": 2,
       "version_minor": 0
      },
      "text/plain": [
       "HBox(children=(FloatProgress(value=0.0, description='Downloading', max=548118077.0, style=ProgressStyle(descri…"
      ]
     },
     "metadata": {},
     "output_type": "display_data"
    },
    {
     "name": "stdout",
     "output_type": "stream",
     "text": [
      "\n"
     ]
    }
   ],
   "source": [
    "tokenizer = GPT2Tokenizer.from_pretrained(\"gpt2\", pad_token='<|endoftext|>', unk_token='<|endoftext|>')\n",
    "model = GPT2LMHeadModel.from_pretrained(\"gpt2\")\n",
    "model = model.to(device)"
   ]
  },
  {
   "cell_type": "code",
   "execution_count": 5,
   "metadata": {
    "execution": {
     "iopub.execute_input": "2020-08-10T12:17:04.196154Z",
     "iopub.status.busy": "2020-08-10T12:17:04.195389Z",
     "iopub.status.idle": "2020-08-10T12:17:04.200429Z",
     "shell.execute_reply": "2020-08-10T12:17:04.201689Z"
    },
    "papermill": {
     "duration": 0.030435,
     "end_time": "2020-08-10T12:17:04.201876",
     "exception": false,
     "start_time": "2020-08-10T12:17:04.171441",
     "status": "completed"
    },
    "tags": []
   },
   "outputs": [
    {
     "name": "stdout",
     "output_type": "stream",
     "text": [
      "1024\n"
     ]
    }
   ],
   "source": [
    "model_max_input = tokenizer.max_model_input_sizes['gpt2']\n",
    "print(model_max_input)"
   ]
  },
  {
   "cell_type": "code",
   "execution_count": 6,
   "metadata": {
    "execution": {
     "iopub.execute_input": "2020-08-10T12:17:04.245172Z",
     "iopub.status.busy": "2020-08-10T12:17:04.243270Z",
     "iopub.status.idle": "2020-08-10T12:17:04.246105Z",
     "shell.execute_reply": "2020-08-10T12:17:04.246568Z"
    },
    "papermill": {
     "duration": 0.026428,
     "end_time": "2020-08-10T12:17:04.246714",
     "exception": false,
     "start_time": "2020-08-10T12:17:04.220286",
     "status": "completed"
    },
    "tags": []
   },
   "outputs": [],
   "source": [
    "FILE_NAME = \"/kaggle/input/adventure_of_sherlock_homles.txt\""
   ]
  },
  {
   "cell_type": "code",
   "execution_count": 7,
   "metadata": {
    "execution": {
     "iopub.execute_input": "2020-08-10T12:17:04.289529Z",
     "iopub.status.busy": "2020-08-10T12:17:04.288746Z",
     "iopub.status.idle": "2020-08-10T12:17:04.301956Z",
     "shell.execute_reply": "2020-08-10T12:17:04.301279Z"
    },
    "papermill": {
     "duration": 0.036746,
     "end_time": "2020-08-10T12:17:04.302089",
     "exception": false,
     "start_time": "2020-08-10T12:17:04.265343",
     "status": "completed"
    },
    "tags": []
   },
   "outputs": [],
   "source": [
    "fp = open(FILE_NAME, \"r\", encoding='utf8')\n",
    "text = fp.read(-1)\n",
    "fp.close()"
   ]
  },
  {
   "cell_type": "code",
   "execution_count": 8,
   "metadata": {
    "execution": {
     "iopub.execute_input": "2020-08-10T12:17:04.361381Z",
     "iopub.status.busy": "2020-08-10T12:17:04.360575Z",
     "iopub.status.idle": "2020-08-10T12:17:04.363297Z",
     "shell.execute_reply": "2020-08-10T12:17:04.363817Z"
    },
    "papermill": {
     "duration": 0.042254,
     "end_time": "2020-08-10T12:17:04.363976",
     "exception": false,
     "start_time": "2020-08-10T12:17:04.321722",
     "status": "completed"
    },
    "tags": []
   },
   "outputs": [],
   "source": [
    "new_text = text.replace(\"\\n\",' ')\n",
    "new_text = \" \".join(new_text.split())"
   ]
  },
  {
   "cell_type": "code",
   "execution_count": 9,
   "metadata": {
    "execution": {
     "iopub.execute_input": "2020-08-10T12:17:04.655459Z",
     "iopub.status.busy": "2020-08-10T12:17:04.635161Z",
     "iopub.status.idle": "2020-08-10T12:17:06.003372Z",
     "shell.execute_reply": "2020-08-10T12:17:06.003973Z"
    },
    "papermill": {
     "duration": 1.620729,
     "end_time": "2020-08-10T12:17:06.004138",
     "exception": false,
     "start_time": "2020-08-10T12:17:04.383409",
     "status": "completed"
    },
    "tags": []
   },
   "outputs": [],
   "source": [
    "nlp = English()\n",
    "nlp.add_pipe(nlp.create_pipe('sentencizer'))\n",
    "doc = nlp(new_text)\n",
    "lines = [sent.string.strip() for sent in doc.sents]"
   ]
  },
  {
   "cell_type": "code",
   "execution_count": 10,
   "metadata": {
    "execution": {
     "iopub.execute_input": "2020-08-10T12:17:06.050275Z",
     "iopub.status.busy": "2020-08-10T12:17:06.049496Z",
     "iopub.status.idle": "2020-08-10T12:17:06.054114Z",
     "shell.execute_reply": "2020-08-10T12:17:06.053425Z"
    },
    "papermill": {
     "duration": 0.029541,
     "end_time": "2020-08-10T12:17:06.054242",
     "exception": false,
     "start_time": "2020-08-10T12:17:06.024701",
     "status": "completed"
    },
    "tags": []
   },
   "outputs": [],
   "source": [
    "def attention_mask(tokens):\n",
    "    return [1]*len(tokens)"
   ]
  },
  {
   "cell_type": "code",
   "execution_count": 11,
   "metadata": {
    "execution": {
     "iopub.execute_input": "2020-08-10T12:17:06.099130Z",
     "iopub.status.busy": "2020-08-10T12:17:06.098400Z",
     "iopub.status.idle": "2020-08-10T12:17:06.102665Z",
     "shell.execute_reply": "2020-08-10T12:17:06.102117Z"
    },
    "papermill": {
     "duration": 0.02956,
     "end_time": "2020-08-10T12:17:06.102786",
     "exception": false,
     "start_time": "2020-08-10T12:17:06.073226",
     "status": "completed"
    },
    "tags": []
   },
   "outputs": [],
   "source": [
    "text_field = Field(use_vocab=False, pad_token=tokenizer.pad_token_id, init_token=None, eos_token=None, \n",
    "                   unk_token=tokenizer.unk_token_id, tokenize=tokenizer.tokenize, preprocessing=tokenizer.convert_tokens_to_ids, \n",
    "                   batch_first=True)\n",
    "\n",
    "attn_mask_field = Field(use_vocab=False, pad_token=0, init_token=None, eos_token=None, \n",
    "                   unk_token=1, tokenize=tokenizer.tokenize, preprocessing=attention_mask, \n",
    "                   batch_first=True)\n"
   ]
  },
  {
   "cell_type": "code",
   "execution_count": 12,
   "metadata": {
    "execution": {
     "iopub.execute_input": "2020-08-10T12:17:06.145970Z",
     "iopub.status.busy": "2020-08-10T12:17:06.145334Z",
     "iopub.status.idle": "2020-08-10T12:17:08.597613Z",
     "shell.execute_reply": "2020-08-10T12:17:08.597114Z"
    },
    "papermill": {
     "duration": 2.476184,
     "end_time": "2020-08-10T12:17:08.597749",
     "exception": false,
     "start_time": "2020-08-10T12:17:06.121565",
     "status": "completed"
    },
    "tags": []
   },
   "outputs": [
    {
     "data": {
      "text/plain": [
       "6899"
      ]
     },
     "execution_count": 12,
     "metadata": {},
     "output_type": "execute_result"
    }
   ],
   "source": [
    "examples = []\n",
    "for line in lines:\n",
    "    ex = Example.fromlist([line, line], [(\"text\", text_field),(\"mask\", attn_mask_field)])\n",
    "    examples.append(ex)\n",
    "\n",
    "len(examples)"
   ]
  },
  {
   "cell_type": "code",
   "execution_count": 13,
   "metadata": {
    "execution": {
     "iopub.execute_input": "2020-08-10T12:17:08.642979Z",
     "iopub.status.busy": "2020-08-10T12:17:08.642081Z",
     "iopub.status.idle": "2020-08-10T12:17:08.644789Z",
     "shell.execute_reply": "2020-08-10T12:17:08.645402Z"
    },
    "papermill": {
     "duration": 0.027268,
     "end_time": "2020-08-10T12:17:08.645556",
     "exception": false,
     "start_time": "2020-08-10T12:17:08.618288",
     "status": "completed"
    },
    "tags": []
   },
   "outputs": [],
   "source": [
    "ds = Dataset(examples, [(\"text\", text_field), (\"mask\", attn_mask_field)])"
   ]
  },
  {
   "cell_type": "code",
   "execution_count": 14,
   "metadata": {
    "execution": {
     "iopub.execute_input": "2020-08-10T12:17:08.701509Z",
     "iopub.status.busy": "2020-08-10T12:17:08.698153Z",
     "iopub.status.idle": "2020-08-10T12:17:08.706787Z",
     "shell.execute_reply": "2020-08-10T12:17:08.707547Z"
    },
    "papermill": {
     "duration": 0.042619,
     "end_time": "2020-08-10T12:17:08.707716",
     "exception": false,
     "start_time": "2020-08-10T12:17:08.665097",
     "status": "completed"
    },
    "tags": []
   },
   "outputs": [
    {
     "name": "stdout",
     "output_type": "stream",
     "text": [
      "Training samples  6209\n",
      "Testing samples  690\n"
     ]
    }
   ],
   "source": [
    "tr, te = ds.split(split_ratio=0.9)\n",
    "print(\"Training samples \", len(tr))\n",
    "print(\"Testing samples \", len(te))"
   ]
  },
  {
   "cell_type": "code",
   "execution_count": 15,
   "metadata": {
    "execution": {
     "iopub.execute_input": "2020-08-10T12:17:08.753868Z",
     "iopub.status.busy": "2020-08-10T12:17:08.753086Z",
     "iopub.status.idle": "2020-08-10T12:17:08.755747Z",
     "shell.execute_reply": "2020-08-10T12:17:08.756348Z"
    },
    "papermill": {
     "duration": 0.028531,
     "end_time": "2020-08-10T12:17:08.756461",
     "exception": false,
     "start_time": "2020-08-10T12:17:08.727930",
     "status": "completed"
    },
    "tags": []
   },
   "outputs": [],
   "source": [
    "batch_size = 10\n",
    "tr_i, te_i = BucketIterator.splits(datasets=(tr, te), batch_sizes=(batch_size,batch_size), \n",
    "                                         sort_key=lambda ex: len(ex.text), device=device, shuffle=True)"
   ]
  },
  {
   "cell_type": "code",
   "execution_count": 16,
   "metadata": {
    "execution": {
     "iopub.execute_input": "2020-08-10T12:17:08.803156Z",
     "iopub.status.busy": "2020-08-10T12:17:08.802181Z",
     "iopub.status.idle": "2020-08-10T12:17:08.805391Z",
     "shell.execute_reply": "2020-08-10T12:17:08.804764Z"
    },
    "papermill": {
     "duration": 0.028917,
     "end_time": "2020-08-10T12:17:08.805496",
     "exception": false,
     "start_time": "2020-08-10T12:17:08.776579",
     "status": "completed"
    },
    "tags": []
   },
   "outputs": [],
   "source": [
    "optimizer = optim.AdamW(model.parameters(), lr=5e-06)"
   ]
  },
  {
   "cell_type": "code",
   "execution_count": 17,
   "metadata": {
    "execution": {
     "iopub.execute_input": "2020-08-10T12:17:08.859529Z",
     "iopub.status.busy": "2020-08-10T12:17:08.854369Z",
     "iopub.status.idle": "2020-08-10T12:21:38.155061Z",
     "shell.execute_reply": "2020-08-10T12:21:38.155713Z"
    },
    "papermill": {
     "duration": 269.329594,
     "end_time": "2020-08-10T12:21:38.156020",
     "exception": false,
     "start_time": "2020-08-10T12:17:08.826426",
     "status": "completed"
    },
    "tags": []
   },
   "outputs": [
    {
     "name": "stdout",
     "output_type": "stream",
     "text": [
      "Epoch 1 Total Loss 2240.918213, Avg Loss 3.608564\n",
      "Eval 1 Total Loss 225.292267, Avg Loss 3.265105\n",
      "Epoch 2 Total Loss 2049.608398, Avg Loss 3.300497\n",
      "Eval 2 Total Loss 218.983215, Avg Loss 3.173670\n",
      "Epoch 3 Total Loss 1981.357788, Avg Loss 3.190592\n",
      "Eval 3 Total Loss 215.506226, Avg Loss 3.123279\n",
      "Epoch 4 Total Loss 1935.522461, Avg Loss 3.116783\n",
      "Eval 4 Total Loss 213.776321, Avg Loss 3.098208\n"
     ]
    }
   ],
   "source": [
    "NUM_EPOCHS = 4\n",
    "EVAL_AFTER_EPOCHS = 1\n",
    "for epoch in range(NUM_EPOCHS):\n",
    "    epoch_loss = 0\n",
    "    model.train()\n",
    "    for batch in tr_i:\n",
    "        optimizer.zero_grad()\n",
    "        labels = batch.text.clone().detach()\n",
    "        labels[labels==tokenizer.pad_token_id] = -100\n",
    "        outputs = model(input_ids=batch.text, attention_mask=batch.mask, labels=labels)\n",
    "        loss, logits, past = outputs\n",
    "        epoch_loss += loss.detach()\n",
    "        loss.backward()\n",
    "        optimizer.step()\n",
    "    print(\"Epoch %d Total Loss %f, Avg Loss %f\" % (epoch+1, epoch_loss, epoch_loss/len(tr_i)))\n",
    "    if ((epoch+1)%EVAL_AFTER_EPOCHS==0):\n",
    "        total_eval_loss = 0\n",
    "        with torch.no_grad():\n",
    "            model.eval()\n",
    "            for batch in te_i:\n",
    "                labels = batch.text.clone().detach()\n",
    "                labels[labels==tokenizer.pad_token_id] = -100                \n",
    "                eval_outputs = model(input_ids=batch.text, attention_mask=batch.mask, labels=labels)\n",
    "                eval_loss, eval_logits, eval_past = eval_outputs\n",
    "                total_eval_loss += eval_loss.detach()        \n",
    "            print(\"Eval %d Total Loss %f, Avg Loss %f\" % (epoch+1, total_eval_loss, total_eval_loss/len(te_i)))"
   ]
  },
  {
   "cell_type": "code",
   "execution_count": 18,
   "metadata": {
    "execution": {
     "iopub.execute_input": "2020-08-10T12:21:38.208457Z",
     "iopub.status.busy": "2020-08-10T12:21:38.207160Z",
     "iopub.status.idle": "2020-08-10T12:21:38.976761Z",
     "shell.execute_reply": "2020-08-10T12:21:38.976235Z"
    },
    "papermill": {
     "duration": 0.79724,
     "end_time": "2020-08-10T12:21:38.976878",
     "exception": false,
     "start_time": "2020-08-10T12:21:38.179638",
     "status": "completed"
    },
    "tags": []
   },
   "outputs": [
    {
     "data": {
      "text/plain": [
       "('/kaggle/working/vocab.json',\n",
       " '/kaggle/working/merges.txt',\n",
       " '/kaggle/working/special_tokens_map.json',\n",
       " '/kaggle/working/added_tokens.json')"
      ]
     },
     "execution_count": 18,
     "metadata": {},
     "output_type": "execute_result"
    }
   ],
   "source": [
    "model.save_pretrained(\"/kaggle/working/\")\n",
    "tokenizer.save_pretrained(\"/kaggle/working/\")"
   ]
  },
  {
   "cell_type": "code",
   "execution_count": null,
   "metadata": {
    "papermill": {
     "duration": 0.023155,
     "end_time": "2020-08-10T12:21:39.023608",
     "exception": false,
     "start_time": "2020-08-10T12:21:39.000453",
     "status": "completed"
    },
    "tags": []
   },
   "outputs": [],
   "source": []
  }
 ],
 "metadata": {
  "kernelspec": {
   "display_name": "Python 3",
   "language": "python",
   "name": "python3"
  },
  "language_info": {
   "codemirror_mode": {
    "name": "ipython",
    "version": 3
   },
   "file_extension": ".py",
   "mimetype": "text/x-python",
   "name": "python",
   "nbconvert_exporter": "python",
   "pygments_lexer": "ipython3",
   "version": "3.7.6"
  },
  "papermill": {
   "duration": 320.876528,
   "end_time": "2020-08-10T12:21:40.610818",
   "environment_variables": {},
   "exception": null,
   "input_path": "__notebook__.ipynb",
   "output_path": "__notebook__.ipynb",
   "parameters": {},
   "start_time": "2020-08-10T12:16:19.734290",
   "version": "2.1.0"
  },
  "widgets": {
   "application/vnd.jupyter.widget-state+json": {
    "state": {
     "008bce3923024995be5b44fdf1d0c278": {
      "model_module": "@jupyter-widgets/base",
      "model_module_version": "1.2.0",
      "model_name": "LayoutModel",
      "state": {
       "_model_module": "@jupyter-widgets/base",
       "_model_module_version": "1.2.0",
       "_model_name": "LayoutModel",
       "_view_count": null,
       "_view_module": "@jupyter-widgets/base",
       "_view_module_version": "1.2.0",
       "_view_name": "LayoutView",
       "align_content": null,
       "align_items": null,
       "align_self": null,
       "border": null,
       "bottom": null,
       "display": null,
       "flex": null,
       "flex_flow": null,
       "grid_area": null,
       "grid_auto_columns": null,
       "grid_auto_flow": null,
       "grid_auto_rows": null,
       "grid_column": null,
       "grid_gap": null,
       "grid_row": null,
       "grid_template_areas": null,
       "grid_template_columns": null,
       "grid_template_rows": null,
       "height": null,
       "justify_content": null,
       "justify_items": null,
       "left": null,
       "margin": null,
       "max_height": null,
       "max_width": null,
       "min_height": null,
       "min_width": null,
       "object_fit": null,
       "object_position": null,
       "order": null,
       "overflow": null,
       "overflow_x": null,
       "overflow_y": null,
       "padding": null,
       "right": null,
       "top": null,
       "visibility": null,
       "width": null
      }
     },
     "064f5745e88f4a8d8139ab65c701c1f5": {
      "model_module": "@jupyter-widgets/base",
      "model_module_version": "1.2.0",
      "model_name": "LayoutModel",
      "state": {
       "_model_module": "@jupyter-widgets/base",
       "_model_module_version": "1.2.0",
       "_model_name": "LayoutModel",
       "_view_count": null,
       "_view_module": "@jupyter-widgets/base",
       "_view_module_version": "1.2.0",
       "_view_name": "LayoutView",
       "align_content": null,
       "align_items": null,
       "align_self": null,
       "border": null,
       "bottom": null,
       "display": null,
       "flex": null,
       "flex_flow": null,
       "grid_area": null,
       "grid_auto_columns": null,
       "grid_auto_flow": null,
       "grid_auto_rows": null,
       "grid_column": null,
       "grid_gap": null,
       "grid_row": null,
       "grid_template_areas": null,
       "grid_template_columns": null,
       "grid_template_rows": null,
       "height": null,
       "justify_content": null,
       "justify_items": null,
       "left": null,
       "margin": null,
       "max_height": null,
       "max_width": null,
       "min_height": null,
       "min_width": null,
       "object_fit": null,
       "object_position": null,
       "order": null,
       "overflow": null,
       "overflow_x": null,
       "overflow_y": null,
       "padding": null,
       "right": null,
       "top": null,
       "visibility": null,
       "width": null
      }
     },
     "071b32529240495091505a372a4831ad": {
      "model_module": "@jupyter-widgets/controls",
      "model_module_version": "1.5.0",
      "model_name": "ProgressStyleModel",
      "state": {
       "_model_module": "@jupyter-widgets/controls",
       "_model_module_version": "1.5.0",
       "_model_name": "ProgressStyleModel",
       "_view_count": null,
       "_view_module": "@jupyter-widgets/base",
       "_view_module_version": "1.2.0",
       "_view_name": "StyleView",
       "bar_color": null,
       "description_width": "initial"
      }
     },
     "0761d20d6baf4212acb27de8481d6d31": {
      "model_module": "@jupyter-widgets/base",
      "model_module_version": "1.2.0",
      "model_name": "LayoutModel",
      "state": {
       "_model_module": "@jupyter-widgets/base",
       "_model_module_version": "1.2.0",
       "_model_name": "LayoutModel",
       "_view_count": null,
       "_view_module": "@jupyter-widgets/base",
       "_view_module_version": "1.2.0",
       "_view_name": "LayoutView",
       "align_content": null,
       "align_items": null,
       "align_self": null,
       "border": null,
       "bottom": null,
       "display": null,
       "flex": null,
       "flex_flow": null,
       "grid_area": null,
       "grid_auto_columns": null,
       "grid_auto_flow": null,
       "grid_auto_rows": null,
       "grid_column": null,
       "grid_gap": null,
       "grid_row": null,
       "grid_template_areas": null,
       "grid_template_columns": null,
       "grid_template_rows": null,
       "height": null,
       "justify_content": null,
       "justify_items": null,
       "left": null,
       "margin": null,
       "max_height": null,
       "max_width": null,
       "min_height": null,
       "min_width": null,
       "object_fit": null,
       "object_position": null,
       "order": null,
       "overflow": null,
       "overflow_x": null,
       "overflow_y": null,
       "padding": null,
       "right": null,
       "top": null,
       "visibility": null,
       "width": null
      }
     },
     "0a24b864dab84e8686df999532c713c0": {
      "model_module": "@jupyter-widgets/controls",
      "model_module_version": "1.5.0",
      "model_name": "DescriptionStyleModel",
      "state": {
       "_model_module": "@jupyter-widgets/controls",
       "_model_module_version": "1.5.0",
       "_model_name": "DescriptionStyleModel",
       "_view_count": null,
       "_view_module": "@jupyter-widgets/base",
       "_view_module_version": "1.2.0",
       "_view_name": "StyleView",
       "description_width": ""
      }
     },
     "0eab36265a3943b88a0e77fd5888cf90": {
      "model_module": "@jupyter-widgets/controls",
      "model_module_version": "1.5.0",
      "model_name": "HBoxModel",
      "state": {
       "_dom_classes": [],
       "_model_module": "@jupyter-widgets/controls",
       "_model_module_version": "1.5.0",
       "_model_name": "HBoxModel",
       "_view_count": null,
       "_view_module": "@jupyter-widgets/controls",
       "_view_module_version": "1.5.0",
       "_view_name": "HBoxView",
       "box_style": "",
       "children": [
        "IPY_MODEL_6f908c5a3af44dac84e99ef7d656522a",
        "IPY_MODEL_47fbb700d0a74c6ab074babcb0caf208"
       ],
       "layout": "IPY_MODEL_28c9757be99749bb9e61e49da78fca58"
      }
     },
     "28c9757be99749bb9e61e49da78fca58": {
      "model_module": "@jupyter-widgets/base",
      "model_module_version": "1.2.0",
      "model_name": "LayoutModel",
      "state": {
       "_model_module": "@jupyter-widgets/base",
       "_model_module_version": "1.2.0",
       "_model_name": "LayoutModel",
       "_view_count": null,
       "_view_module": "@jupyter-widgets/base",
       "_view_module_version": "1.2.0",
       "_view_name": "LayoutView",
       "align_content": null,
       "align_items": null,
       "align_self": null,
       "border": null,
       "bottom": null,
       "display": null,
       "flex": null,
       "flex_flow": null,
       "grid_area": null,
       "grid_auto_columns": null,
       "grid_auto_flow": null,
       "grid_auto_rows": null,
       "grid_column": null,
       "grid_gap": null,
       "grid_row": null,
       "grid_template_areas": null,
       "grid_template_columns": null,
       "grid_template_rows": null,
       "height": null,
       "justify_content": null,
       "justify_items": null,
       "left": null,
       "margin": null,
       "max_height": null,
       "max_width": null,
       "min_height": null,
       "min_width": null,
       "object_fit": null,
       "object_position": null,
       "order": null,
       "overflow": null,
       "overflow_x": null,
       "overflow_y": null,
       "padding": null,
       "right": null,
       "top": null,
       "visibility": null,
       "width": null
      }
     },
     "292d69a21629427fa690804d3115cd11": {
      "model_module": "@jupyter-widgets/controls",
      "model_module_version": "1.5.0",
      "model_name": "ProgressStyleModel",
      "state": {
       "_model_module": "@jupyter-widgets/controls",
       "_model_module_version": "1.5.0",
       "_model_name": "ProgressStyleModel",
       "_view_count": null,
       "_view_module": "@jupyter-widgets/base",
       "_view_module_version": "1.2.0",
       "_view_name": "StyleView",
       "bar_color": null,
       "description_width": "initial"
      }
     },
     "2c3a4b5300e343cebdd2832e11b28c19": {
      "model_module": "@jupyter-widgets/base",
      "model_module_version": "1.2.0",
      "model_name": "LayoutModel",
      "state": {
       "_model_module": "@jupyter-widgets/base",
       "_model_module_version": "1.2.0",
       "_model_name": "LayoutModel",
       "_view_count": null,
       "_view_module": "@jupyter-widgets/base",
       "_view_module_version": "1.2.0",
       "_view_name": "LayoutView",
       "align_content": null,
       "align_items": null,
       "align_self": null,
       "border": null,
       "bottom": null,
       "display": null,
       "flex": null,
       "flex_flow": null,
       "grid_area": null,
       "grid_auto_columns": null,
       "grid_auto_flow": null,
       "grid_auto_rows": null,
       "grid_column": null,
       "grid_gap": null,
       "grid_row": null,
       "grid_template_areas": null,
       "grid_template_columns": null,
       "grid_template_rows": null,
       "height": null,
       "justify_content": null,
       "justify_items": null,
       "left": null,
       "margin": null,
       "max_height": null,
       "max_width": null,
       "min_height": null,
       "min_width": null,
       "object_fit": null,
       "object_position": null,
       "order": null,
       "overflow": null,
       "overflow_x": null,
       "overflow_y": null,
       "padding": null,
       "right": null,
       "top": null,
       "visibility": null,
       "width": null
      }
     },
     "393d19268a494616b42ef354716ba4c8": {
      "model_module": "@jupyter-widgets/controls",
      "model_module_version": "1.5.0",
      "model_name": "DescriptionStyleModel",
      "state": {
       "_model_module": "@jupyter-widgets/controls",
       "_model_module_version": "1.5.0",
       "_model_name": "DescriptionStyleModel",
       "_view_count": null,
       "_view_module": "@jupyter-widgets/base",
       "_view_module_version": "1.2.0",
       "_view_name": "StyleView",
       "description_width": ""
      }
     },
     "3f2d8ecf765649dbaf6f08766aec48c0": {
      "model_module": "@jupyter-widgets/controls",
      "model_module_version": "1.5.0",
      "model_name": "ProgressStyleModel",
      "state": {
       "_model_module": "@jupyter-widgets/controls",
       "_model_module_version": "1.5.0",
       "_model_name": "ProgressStyleModel",
       "_view_count": null,
       "_view_module": "@jupyter-widgets/base",
       "_view_module_version": "1.2.0",
       "_view_name": "StyleView",
       "bar_color": null,
       "description_width": "initial"
      }
     },
     "4358f797787b4788bd82bf2858dc8b1d": {
      "model_module": "@jupyter-widgets/controls",
      "model_module_version": "1.5.0",
      "model_name": "HBoxModel",
      "state": {
       "_dom_classes": [],
       "_model_module": "@jupyter-widgets/controls",
       "_model_module_version": "1.5.0",
       "_model_name": "HBoxModel",
       "_view_count": null,
       "_view_module": "@jupyter-widgets/controls",
       "_view_module_version": "1.5.0",
       "_view_name": "HBoxView",
       "box_style": "",
       "children": [
        "IPY_MODEL_8fb8255bc0f243db92308492e7ac45e8",
        "IPY_MODEL_5768fbf9030b47c1af29a6b1deaed5f2"
       ],
       "layout": "IPY_MODEL_0761d20d6baf4212acb27de8481d6d31"
      }
     },
     "43fc28f69123407eba7d13db69321528": {
      "model_module": "@jupyter-widgets/controls",
      "model_module_version": "1.5.0",
      "model_name": "DescriptionStyleModel",
      "state": {
       "_model_module": "@jupyter-widgets/controls",
       "_model_module_version": "1.5.0",
       "_model_name": "DescriptionStyleModel",
       "_view_count": null,
       "_view_module": "@jupyter-widgets/base",
       "_view_module_version": "1.2.0",
       "_view_name": "StyleView",
       "description_width": ""
      }
     },
     "44b4caaae0364917bff9da843bfb4db9": {
      "model_module": "@jupyter-widgets/base",
      "model_module_version": "1.2.0",
      "model_name": "LayoutModel",
      "state": {
       "_model_module": "@jupyter-widgets/base",
       "_model_module_version": "1.2.0",
       "_model_name": "LayoutModel",
       "_view_count": null,
       "_view_module": "@jupyter-widgets/base",
       "_view_module_version": "1.2.0",
       "_view_name": "LayoutView",
       "align_content": null,
       "align_items": null,
       "align_self": null,
       "border": null,
       "bottom": null,
       "display": null,
       "flex": null,
       "flex_flow": null,
       "grid_area": null,
       "grid_auto_columns": null,
       "grid_auto_flow": null,
       "grid_auto_rows": null,
       "grid_column": null,
       "grid_gap": null,
       "grid_row": null,
       "grid_template_areas": null,
       "grid_template_columns": null,
       "grid_template_rows": null,
       "height": null,
       "justify_content": null,
       "justify_items": null,
       "left": null,
       "margin": null,
       "max_height": null,
       "max_width": null,
       "min_height": null,
       "min_width": null,
       "object_fit": null,
       "object_position": null,
       "order": null,
       "overflow": null,
       "overflow_x": null,
       "overflow_y": null,
       "padding": null,
       "right": null,
       "top": null,
       "visibility": null,
       "width": null
      }
     },
     "47fbb700d0a74c6ab074babcb0caf208": {
      "model_module": "@jupyter-widgets/controls",
      "model_module_version": "1.5.0",
      "model_name": "HTMLModel",
      "state": {
       "_dom_classes": [],
       "_model_module": "@jupyter-widgets/controls",
       "_model_module_version": "1.5.0",
       "_model_name": "HTMLModel",
       "_view_count": null,
       "_view_module": "@jupyter-widgets/controls",
       "_view_module_version": "1.5.0",
       "_view_name": "HTMLView",
       "description": "",
       "description_tooltip": null,
       "layout": "IPY_MODEL_064f5745e88f4a8d8139ab65c701c1f5",
       "placeholder": "​",
       "style": "IPY_MODEL_907863dec14f4d68b8bc101d2e1177c4",
       "value": " 665/665 [00:16&lt;00:00, 39.2B/s]"
      }
     },
     "4a52939f95914889a72e1c19668a05e3": {
      "model_module": "@jupyter-widgets/controls",
      "model_module_version": "1.5.0",
      "model_name": "ProgressStyleModel",
      "state": {
       "_model_module": "@jupyter-widgets/controls",
       "_model_module_version": "1.5.0",
       "_model_name": "ProgressStyleModel",
       "_view_count": null,
       "_view_module": "@jupyter-widgets/base",
       "_view_module_version": "1.2.0",
       "_view_name": "StyleView",
       "bar_color": null,
       "description_width": "initial"
      }
     },
     "4ba446f7336848e486c658462dea4558": {
      "model_module": "@jupyter-widgets/controls",
      "model_module_version": "1.5.0",
      "model_name": "HTMLModel",
      "state": {
       "_dom_classes": [],
       "_model_module": "@jupyter-widgets/controls",
       "_model_module_version": "1.5.0",
       "_model_name": "HTMLModel",
       "_view_count": null,
       "_view_module": "@jupyter-widgets/controls",
       "_view_module_version": "1.5.0",
       "_view_name": "HTMLView",
       "description": "",
       "description_tooltip": null,
       "layout": "IPY_MODEL_700be3e908a04eebb0c4e09ea263f433",
       "placeholder": "​",
       "style": "IPY_MODEL_43fc28f69123407eba7d13db69321528",
       "value": " 456k/456k [00:00&lt;00:00, 3.03MB/s]"
      }
     },
     "5768fbf9030b47c1af29a6b1deaed5f2": {
      "model_module": "@jupyter-widgets/controls",
      "model_module_version": "1.5.0",
      "model_name": "HTMLModel",
      "state": {
       "_dom_classes": [],
       "_model_module": "@jupyter-widgets/controls",
       "_model_module_version": "1.5.0",
       "_model_name": "HTMLModel",
       "_view_count": null,
       "_view_module": "@jupyter-widgets/controls",
       "_view_module_version": "1.5.0",
       "_view_name": "HTMLView",
       "description": "",
       "description_tooltip": null,
       "layout": "IPY_MODEL_44b4caaae0364917bff9da843bfb4db9",
       "placeholder": "​",
       "style": "IPY_MODEL_393d19268a494616b42ef354716ba4c8",
       "value": " 1.04M/1.04M [00:00&lt;00:00, 10.1MB/s]"
      }
     },
     "619244f351394e879029a85326aa7906": {
      "model_module": "@jupyter-widgets/controls",
      "model_module_version": "1.5.0",
      "model_name": "HTMLModel",
      "state": {
       "_dom_classes": [],
       "_model_module": "@jupyter-widgets/controls",
       "_model_module_version": "1.5.0",
       "_model_name": "HTMLModel",
       "_view_count": null,
       "_view_module": "@jupyter-widgets/controls",
       "_view_module_version": "1.5.0",
       "_view_name": "HTMLView",
       "description": "",
       "description_tooltip": null,
       "layout": "IPY_MODEL_cb013cfee834447f95350d3776b6bd26",
       "placeholder": "​",
       "style": "IPY_MODEL_0a24b864dab84e8686df999532c713c0",
       "value": " 548M/548M [00:16&lt;00:00, 32.7MB/s]"
      }
     },
     "6557b33b7db3419d85796ce4d4483059": {
      "model_module": "@jupyter-widgets/base",
      "model_module_version": "1.2.0",
      "model_name": "LayoutModel",
      "state": {
       "_model_module": "@jupyter-widgets/base",
       "_model_module_version": "1.2.0",
       "_model_name": "LayoutModel",
       "_view_count": null,
       "_view_module": "@jupyter-widgets/base",
       "_view_module_version": "1.2.0",
       "_view_name": "LayoutView",
       "align_content": null,
       "align_items": null,
       "align_self": null,
       "border": null,
       "bottom": null,
       "display": null,
       "flex": null,
       "flex_flow": null,
       "grid_area": null,
       "grid_auto_columns": null,
       "grid_auto_flow": null,
       "grid_auto_rows": null,
       "grid_column": null,
       "grid_gap": null,
       "grid_row": null,
       "grid_template_areas": null,
       "grid_template_columns": null,
       "grid_template_rows": null,
       "height": null,
       "justify_content": null,
       "justify_items": null,
       "left": null,
       "margin": null,
       "max_height": null,
       "max_width": null,
       "min_height": null,
       "min_width": null,
       "object_fit": null,
       "object_position": null,
       "order": null,
       "overflow": null,
       "overflow_x": null,
       "overflow_y": null,
       "padding": null,
       "right": null,
       "top": null,
       "visibility": null,
       "width": null
      }
     },
     "69444399516644b0a744c7dc74b5a5d3": {
      "model_module": "@jupyter-widgets/controls",
      "model_module_version": "1.5.0",
      "model_name": "HBoxModel",
      "state": {
       "_dom_classes": [],
       "_model_module": "@jupyter-widgets/controls",
       "_model_module_version": "1.5.0",
       "_model_name": "HBoxModel",
       "_view_count": null,
       "_view_module": "@jupyter-widgets/controls",
       "_view_module_version": "1.5.0",
       "_view_name": "HBoxView",
       "box_style": "",
       "children": [
        "IPY_MODEL_e38dbb07902943ed843a9b2458fa026c",
        "IPY_MODEL_619244f351394e879029a85326aa7906"
       ],
       "layout": "IPY_MODEL_2c3a4b5300e343cebdd2832e11b28c19"
      }
     },
     "6d83e71b2684442db15289dcd5d3c62b": {
      "model_module": "@jupyter-widgets/controls",
      "model_module_version": "1.5.0",
      "model_name": "FloatProgressModel",
      "state": {
       "_dom_classes": [],
       "_model_module": "@jupyter-widgets/controls",
       "_model_module_version": "1.5.0",
       "_model_name": "FloatProgressModel",
       "_view_count": null,
       "_view_module": "@jupyter-widgets/controls",
       "_view_module_version": "1.5.0",
       "_view_name": "ProgressView",
       "bar_style": "success",
       "description": "Downloading: 100%",
       "description_tooltip": null,
       "layout": "IPY_MODEL_eeed7ac7a930483c8681133896bdbd49",
       "max": 456318.0,
       "min": 0.0,
       "orientation": "horizontal",
       "style": "IPY_MODEL_3f2d8ecf765649dbaf6f08766aec48c0",
       "value": 456318.0
      }
     },
     "6f908c5a3af44dac84e99ef7d656522a": {
      "model_module": "@jupyter-widgets/controls",
      "model_module_version": "1.5.0",
      "model_name": "FloatProgressModel",
      "state": {
       "_dom_classes": [],
       "_model_module": "@jupyter-widgets/controls",
       "_model_module_version": "1.5.0",
       "_model_name": "FloatProgressModel",
       "_view_count": null,
       "_view_module": "@jupyter-widgets/controls",
       "_view_module_version": "1.5.0",
       "_view_name": "ProgressView",
       "bar_style": "success",
       "description": "Downloading: 100%",
       "description_tooltip": null,
       "layout": "IPY_MODEL_9af608f7cfcd4803b814f2db730be80d",
       "max": 665.0,
       "min": 0.0,
       "orientation": "horizontal",
       "style": "IPY_MODEL_292d69a21629427fa690804d3115cd11",
       "value": 665.0
      }
     },
     "700be3e908a04eebb0c4e09ea263f433": {
      "model_module": "@jupyter-widgets/base",
      "model_module_version": "1.2.0",
      "model_name": "LayoutModel",
      "state": {
       "_model_module": "@jupyter-widgets/base",
       "_model_module_version": "1.2.0",
       "_model_name": "LayoutModel",
       "_view_count": null,
       "_view_module": "@jupyter-widgets/base",
       "_view_module_version": "1.2.0",
       "_view_name": "LayoutView",
       "align_content": null,
       "align_items": null,
       "align_self": null,
       "border": null,
       "bottom": null,
       "display": null,
       "flex": null,
       "flex_flow": null,
       "grid_area": null,
       "grid_auto_columns": null,
       "grid_auto_flow": null,
       "grid_auto_rows": null,
       "grid_column": null,
       "grid_gap": null,
       "grid_row": null,
       "grid_template_areas": null,
       "grid_template_columns": null,
       "grid_template_rows": null,
       "height": null,
       "justify_content": null,
       "justify_items": null,
       "left": null,
       "margin": null,
       "max_height": null,
       "max_width": null,
       "min_height": null,
       "min_width": null,
       "object_fit": null,
       "object_position": null,
       "order": null,
       "overflow": null,
       "overflow_x": null,
       "overflow_y": null,
       "padding": null,
       "right": null,
       "top": null,
       "visibility": null,
       "width": null
      }
     },
     "8fb8255bc0f243db92308492e7ac45e8": {
      "model_module": "@jupyter-widgets/controls",
      "model_module_version": "1.5.0",
      "model_name": "FloatProgressModel",
      "state": {
       "_dom_classes": [],
       "_model_module": "@jupyter-widgets/controls",
       "_model_module_version": "1.5.0",
       "_model_name": "FloatProgressModel",
       "_view_count": null,
       "_view_module": "@jupyter-widgets/controls",
       "_view_module_version": "1.5.0",
       "_view_name": "ProgressView",
       "bar_style": "success",
       "description": "Downloading: 100%",
       "description_tooltip": null,
       "layout": "IPY_MODEL_008bce3923024995be5b44fdf1d0c278",
       "max": 1042301.0,
       "min": 0.0,
       "orientation": "horizontal",
       "style": "IPY_MODEL_4a52939f95914889a72e1c19668a05e3",
       "value": 1042301.0
      }
     },
     "907863dec14f4d68b8bc101d2e1177c4": {
      "model_module": "@jupyter-widgets/controls",
      "model_module_version": "1.5.0",
      "model_name": "DescriptionStyleModel",
      "state": {
       "_model_module": "@jupyter-widgets/controls",
       "_model_module_version": "1.5.0",
       "_model_name": "DescriptionStyleModel",
       "_view_count": null,
       "_view_module": "@jupyter-widgets/base",
       "_view_module_version": "1.2.0",
       "_view_name": "StyleView",
       "description_width": ""
      }
     },
     "9af608f7cfcd4803b814f2db730be80d": {
      "model_module": "@jupyter-widgets/base",
      "model_module_version": "1.2.0",
      "model_name": "LayoutModel",
      "state": {
       "_model_module": "@jupyter-widgets/base",
       "_model_module_version": "1.2.0",
       "_model_name": "LayoutModel",
       "_view_count": null,
       "_view_module": "@jupyter-widgets/base",
       "_view_module_version": "1.2.0",
       "_view_name": "LayoutView",
       "align_content": null,
       "align_items": null,
       "align_self": null,
       "border": null,
       "bottom": null,
       "display": null,
       "flex": null,
       "flex_flow": null,
       "grid_area": null,
       "grid_auto_columns": null,
       "grid_auto_flow": null,
       "grid_auto_rows": null,
       "grid_column": null,
       "grid_gap": null,
       "grid_row": null,
       "grid_template_areas": null,
       "grid_template_columns": null,
       "grid_template_rows": null,
       "height": null,
       "justify_content": null,
       "justify_items": null,
       "left": null,
       "margin": null,
       "max_height": null,
       "max_width": null,
       "min_height": null,
       "min_width": null,
       "object_fit": null,
       "object_position": null,
       "order": null,
       "overflow": null,
       "overflow_x": null,
       "overflow_y": null,
       "padding": null,
       "right": null,
       "top": null,
       "visibility": null,
       "width": null
      }
     },
     "b202be4f06c24570a0754c1cb3dec90c": {
      "model_module": "@jupyter-widgets/base",
      "model_module_version": "1.2.0",
      "model_name": "LayoutModel",
      "state": {
       "_model_module": "@jupyter-widgets/base",
       "_model_module_version": "1.2.0",
       "_model_name": "LayoutModel",
       "_view_count": null,
       "_view_module": "@jupyter-widgets/base",
       "_view_module_version": "1.2.0",
       "_view_name": "LayoutView",
       "align_content": null,
       "align_items": null,
       "align_self": null,
       "border": null,
       "bottom": null,
       "display": null,
       "flex": null,
       "flex_flow": null,
       "grid_area": null,
       "grid_auto_columns": null,
       "grid_auto_flow": null,
       "grid_auto_rows": null,
       "grid_column": null,
       "grid_gap": null,
       "grid_row": null,
       "grid_template_areas": null,
       "grid_template_columns": null,
       "grid_template_rows": null,
       "height": null,
       "justify_content": null,
       "justify_items": null,
       "left": null,
       "margin": null,
       "max_height": null,
       "max_width": null,
       "min_height": null,
       "min_width": null,
       "object_fit": null,
       "object_position": null,
       "order": null,
       "overflow": null,
       "overflow_x": null,
       "overflow_y": null,
       "padding": null,
       "right": null,
       "top": null,
       "visibility": null,
       "width": null
      }
     },
     "c59013b6ac184505a465265424053053": {
      "model_module": "@jupyter-widgets/controls",
      "model_module_version": "1.5.0",
      "model_name": "HBoxModel",
      "state": {
       "_dom_classes": [],
       "_model_module": "@jupyter-widgets/controls",
       "_model_module_version": "1.5.0",
       "_model_name": "HBoxModel",
       "_view_count": null,
       "_view_module": "@jupyter-widgets/controls",
       "_view_module_version": "1.5.0",
       "_view_name": "HBoxView",
       "box_style": "",
       "children": [
        "IPY_MODEL_6d83e71b2684442db15289dcd5d3c62b",
        "IPY_MODEL_4ba446f7336848e486c658462dea4558"
       ],
       "layout": "IPY_MODEL_b202be4f06c24570a0754c1cb3dec90c"
      }
     },
     "cb013cfee834447f95350d3776b6bd26": {
      "model_module": "@jupyter-widgets/base",
      "model_module_version": "1.2.0",
      "model_name": "LayoutModel",
      "state": {
       "_model_module": "@jupyter-widgets/base",
       "_model_module_version": "1.2.0",
       "_model_name": "LayoutModel",
       "_view_count": null,
       "_view_module": "@jupyter-widgets/base",
       "_view_module_version": "1.2.0",
       "_view_name": "LayoutView",
       "align_content": null,
       "align_items": null,
       "align_self": null,
       "border": null,
       "bottom": null,
       "display": null,
       "flex": null,
       "flex_flow": null,
       "grid_area": null,
       "grid_auto_columns": null,
       "grid_auto_flow": null,
       "grid_auto_rows": null,
       "grid_column": null,
       "grid_gap": null,
       "grid_row": null,
       "grid_template_areas": null,
       "grid_template_columns": null,
       "grid_template_rows": null,
       "height": null,
       "justify_content": null,
       "justify_items": null,
       "left": null,
       "margin": null,
       "max_height": null,
       "max_width": null,
       "min_height": null,
       "min_width": null,
       "object_fit": null,
       "object_position": null,
       "order": null,
       "overflow": null,
       "overflow_x": null,
       "overflow_y": null,
       "padding": null,
       "right": null,
       "top": null,
       "visibility": null,
       "width": null
      }
     },
     "e38dbb07902943ed843a9b2458fa026c": {
      "model_module": "@jupyter-widgets/controls",
      "model_module_version": "1.5.0",
      "model_name": "FloatProgressModel",
      "state": {
       "_dom_classes": [],
       "_model_module": "@jupyter-widgets/controls",
       "_model_module_version": "1.5.0",
       "_model_name": "FloatProgressModel",
       "_view_count": null,
       "_view_module": "@jupyter-widgets/controls",
       "_view_module_version": "1.5.0",
       "_view_name": "ProgressView",
       "bar_style": "success",
       "description": "Downloading: 100%",
       "description_tooltip": null,
       "layout": "IPY_MODEL_6557b33b7db3419d85796ce4d4483059",
       "max": 548118077.0,
       "min": 0.0,
       "orientation": "horizontal",
       "style": "IPY_MODEL_071b32529240495091505a372a4831ad",
       "value": 548118077.0
      }
     },
     "eeed7ac7a930483c8681133896bdbd49": {
      "model_module": "@jupyter-widgets/base",
      "model_module_version": "1.2.0",
      "model_name": "LayoutModel",
      "state": {
       "_model_module": "@jupyter-widgets/base",
       "_model_module_version": "1.2.0",
       "_model_name": "LayoutModel",
       "_view_count": null,
       "_view_module": "@jupyter-widgets/base",
       "_view_module_version": "1.2.0",
       "_view_name": "LayoutView",
       "align_content": null,
       "align_items": null,
       "align_self": null,
       "border": null,
       "bottom": null,
       "display": null,
       "flex": null,
       "flex_flow": null,
       "grid_area": null,
       "grid_auto_columns": null,
       "grid_auto_flow": null,
       "grid_auto_rows": null,
       "grid_column": null,
       "grid_gap": null,
       "grid_row": null,
       "grid_template_areas": null,
       "grid_template_columns": null,
       "grid_template_rows": null,
       "height": null,
       "justify_content": null,
       "justify_items": null,
       "left": null,
       "margin": null,
       "max_height": null,
       "max_width": null,
       "min_height": null,
       "min_width": null,
       "object_fit": null,
       "object_position": null,
       "order": null,
       "overflow": null,
       "overflow_x": null,
       "overflow_y": null,
       "padding": null,
       "right": null,
       "top": null,
       "visibility": null,
       "width": null
      }
     }
    },
    "version_major": 2,
    "version_minor": 0
   }
  }
 },
 "nbformat": 4,
 "nbformat_minor": 4
}
